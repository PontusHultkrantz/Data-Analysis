{
  "nbformat": 4,
  "nbformat_minor": 0,
  "metadata": {
    "colab": {
      "name": "illiquidhedge.ipynb",
      "version": "0.3.2",
      "provenance": [],
      "collapsed_sections": [],
      "include_colab_link": true
    },
    "kernelspec": {
      "name": "python3",
      "display_name": "Python 3"
    }
  },
  "cells": [
    {
      "cell_type": "markdown",
      "metadata": {
        "id": "view-in-github",
        "colab_type": "text"
      },
      "source": [
        "<a href=\"https://colab.research.google.com/github/PontusHultkrantz/Data-Analysis/blob/master/illiquidhedge.ipynb\" target=\"_parent\"><img src=\"https://colab.research.google.com/assets/colab-badge.svg\" alt=\"Open In Colab\"/></a>"
      ]
    },
    {
      "cell_type": "code",
      "metadata": {
        "id": "ThSCaAPPVfzk",
        "colab_type": "code",
        "colab": {}
      },
      "source": [
        "import numpy as np\n",
        "from matplotlib import pyplot as plt\n",
        "\n",
        "from timeit import default_timer as timer\n",
        "\n",
        "n_assets = 3\n",
        "n_years = 100\n",
        "days_in_year = 250\n",
        "vol = np.array([.05, .10, .20])  # Annualized vol.\n",
        "mu = np.array([0.1, 0.2, 0.3])  # drift\n",
        "corr = np.array(\n",
        "    [[+1.0, -0.5, +0.1],\n",
        "     [-0.5, +1.0, +0.0],\n",
        "     [+0.1, +0.0, +1.0]])\n",
        "\n",
        "samplesize = n_years * days_in_year\n",
        "\n",
        "dt = 1/days_in_year\n",
        "std_dt = vol*np.sqrt(dt)\n",
        "np.diag(vol).dot(corr).dot(np.diag(vol))\n",
        "cov = np.diag(vol).dot(corr).dot(np.diag(vol))\n",
        "nu = (mu - vol**2/2)*dt\n",
        "series = np.random.multivariate_normal(nu, cov=cov, size=samplesize, check_valid='raise', tol=1e-6)\n",
        "\n"
      ],
      "execution_count": 0,
      "outputs": []
    },
    {
      "cell_type": "code",
      "metadata": {
        "id": "p6ZJDRtRdzJW",
        "colab_type": "code",
        "colab": {
          "base_uri": "https://localhost:8080/",
          "height": 34
        },
        "outputId": "87c07943-bfed-488e-a4e8-c4db119a1f6e"
      },
      "source": [
        "V = np.diag(vol).dot(corr).dot(np.diag(vol))\n",
        "np.linalg.eigvals(V[1:,1:])"
      ],
      "execution_count": 11,
      "outputs": [
        {
          "output_type": "execute_result",
          "data": {
            "text/plain": [
              "array([0.01, 0.04])"
            ]
          },
          "metadata": {
            "tags": []
          },
          "execution_count": 11
        }
      ]
    },
    {
      "cell_type": "code",
      "metadata": {
        "id": "wPuHG29idzel",
        "colab_type": "code",
        "colab": {
          "base_uri": "https://localhost:8080/",
          "height": 320
        },
        "outputId": "8765a915-5486-4ab8-ad88-d3b17f3113a9"
      },
      "source": [
        "plt.plot(series)"
      ],
      "execution_count": 98,
      "outputs": [
        {
          "output_type": "execute_result",
          "data": {
            "text/plain": [
              "[<matplotlib.lines.Line2D at 0x7f2eab6eac88>,\n",
              " <matplotlib.lines.Line2D at 0x7f2eab6eadd8>,\n",
              " <matplotlib.lines.Line2D at 0x7f2eab6eaf28>]"
            ]
          },
          "metadata": {
            "tags": []
          },
          "execution_count": 98
        },
        {
          "output_type": "display_data",
          "data": {
            "image/png": "[encoded data removed]",
            "text/plain": [
              "<Figure size 432x288 with 1 Axes>"
            ]
          },
          "metadata": {
            "tags": []
          }
        }
      ]
    },
    {
      "cell_type": "code",
      "metadata": {
        "id": "6LW6eWGndzuN",
        "colab_type": "code",
        "colab": {
          "base_uri": "https://localhost:8080/",
          "height": 34
        },
        "outputId": "4f5a6b92-7fbf-4629-9019-68a83e028152"
      },
      "source": [
        ""
      ],
      "execution_count": 62,
      "outputs": [
        {
          "output_type": "execute_result",
          "data": {
            "text/plain": [
              "array([1.98000000e-04, 3.11327563e-22, 6.74586808e-21])"
            ]
          },
          "metadata": {
            "tags": []
          },
          "execution_count": 62
        }
      ]
    },
    {
      "cell_type": "code",
      "metadata": {
        "id": "VYmu5ANSdz8t",
        "colab_type": "code",
        "colab": {
          "base_uri": "https://localhost:8080/",
          "height": 163
        },
        "outputId": "87e0c66f-40c4-46b4-e6b6-d8b4b6718f16"
      },
      "source": [
        ""
      ],
      "execution_count": 68,
      "outputs": [
        {
          "output_type": "error",
          "ename": "ValueError",
          "evalue": "ignored",
          "traceback": [
            "\u001b[0;31m---------------------------------------------------------------------------\u001b[0m",
            "\u001b[0;31mValueError\u001b[0m                                Traceback (most recent call last)",
            "\u001b[0;32m<ipython-input-68-b00820156ee0>\u001b[0m in \u001b[0;36m<module>\u001b[0;34m()\u001b[0m\n\u001b[0;32m----> 1\u001b[0;31m \u001b[0mvol\u001b[0m\u001b[0;34m.\u001b[0m\u001b[0mdiagonal\u001b[0m\u001b[0;34m(\u001b[0m\u001b[0;36m2\u001b[0m\u001b[0;34m)\u001b[0m\u001b[0;34m\u001b[0m\u001b[0;34m\u001b[0m\u001b[0m\n\u001b[0m",
            "\u001b[0;31mValueError\u001b[0m: diag requires an array of at least two dimensions"
          ]
        }
      ]
    },
    {
      "cell_type": "code",
      "metadata": {
        "id": "6_CLI2mnd0Il",
        "colab_type": "code",
        "colab": {}
      },
      "source": [
        ""
      ],
      "execution_count": 0,
      "outputs": []
    }
  ]
}